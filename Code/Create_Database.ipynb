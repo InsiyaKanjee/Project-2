{
 "cells": [
  {
   "cell_type": "markdown",
   "id": "10896bca",
   "metadata": {},
   "source": [
    "# Load Dependencies"
   ]
  },
  {
   "cell_type": "code",
   "execution_count": 10,
   "id": "9df8d95d",
   "metadata": {},
   "outputs": [
    {
     "ename": "ModuleNotFoundError",
     "evalue": "No module named 'config'",
     "output_type": "error",
     "traceback": [
      "\u001b[1;31m---------------------------------------------------------------------------\u001b[0m",
      "\u001b[1;31mModuleNotFoundError\u001b[0m                       Traceback (most recent call last)",
      "\u001b[1;32m<ipython-input-10-add32c7fe698>\u001b[0m in \u001b[0;36m<module>\u001b[1;34m\u001b[0m\n\u001b[0;32m      1\u001b[0m \u001b[1;32mfrom\u001b[0m \u001b[0msqlalchemy\u001b[0m \u001b[1;32mimport\u001b[0m \u001b[0mcreate_engine\u001b[0m\u001b[1;33m\u001b[0m\u001b[1;33m\u001b[0m\u001b[0m\n\u001b[1;32m----> 2\u001b[1;33m \u001b[1;32mfrom\u001b[0m \u001b[0mconfig\u001b[0m \u001b[1;32mimport\u001b[0m \u001b[0mpassword\u001b[0m\u001b[1;33m\u001b[0m\u001b[1;33m\u001b[0m\u001b[0m\n\u001b[0m\u001b[0;32m      3\u001b[0m \u001b[1;32mimport\u001b[0m \u001b[0mpandas\u001b[0m \u001b[1;32mas\u001b[0m \u001b[0mpd\u001b[0m\u001b[1;33m\u001b[0m\u001b[1;33m\u001b[0m\u001b[0m\n\u001b[0;32m      4\u001b[0m \u001b[1;32mimport\u001b[0m \u001b[0mpsycopg2\u001b[0m\u001b[1;33m\u001b[0m\u001b[1;33m\u001b[0m\u001b[0m\n\u001b[0;32m      5\u001b[0m \u001b[1;32mfrom\u001b[0m \u001b[0msqlalchemy_utils\u001b[0m \u001b[1;32mimport\u001b[0m \u001b[0mcreate_database\u001b[0m\u001b[1;33m,\u001b[0m \u001b[0mdatabase_exists\u001b[0m\u001b[1;33m,\u001b[0m \u001b[0mdrop_database\u001b[0m \u001b[1;31m#pip install sqlalchemy-utils\u001b[0m\u001b[1;33m\u001b[0m\u001b[1;33m\u001b[0m\u001b[0m\n",
      "\u001b[1;31mModuleNotFoundError\u001b[0m: No module named 'config'"
     ]
    }
   ],
   "source": [
    "from sqlalchemy import create_engine\n",
    "import pandas as pd\n",
    "import psycopg2\n",
    "from sqlalchemy_utils import create_database, database_exists, drop_database #pip install sqlalchemy-utils"
   ]
  },
  {
   "cell_type": "markdown",
   "id": "adfd468d",
   "metadata": {},
   "source": [
    "# Create Database"
   ]
  },
  {
   "cell_type": "code",
   "execution_count": 2,
   "id": "b74536a7",
   "metadata": {},
   "outputs": [],
   "source": [
    "connection_str =\"postgres:PW@localhost:5432/suicide_db\"\n",
    "engine = create_engine(f'postgresql://{connection_str}')\n",
    "\n",
    "# If a PostgreSQL database with this name exists\n",
    "if database_exists(engine.url):\n",
    "    # Delete PostgreSQL database \n",
    "    drop_database(engine.url)\n",
    "    # Create empty PostgreSQL database\n",
    "    create_database(engine.url)\n",
    "# Otherwise\n",
    "else:\n",
    "    # Create empty PostgreSQL database\n",
    "    create_database(engine.url)\n",
    "    "
   ]
  },
  {
   "cell_type": "markdown",
   "id": "a00f08f1",
   "metadata": {},
   "source": [
    "# Create Tables"
   ]
  },
  {
   "cell_type": "code",
   "execution_count": 3,
   "id": "3c662ff3",
   "metadata": {},
   "outputs": [
    {
     "name": "stdout",
     "output_type": "stream",
     "text": [
      "The tables: ['gdp', 'hdi', 'suicide'] were created\n"
     ]
    },
    {
     "name": "stderr",
     "output_type": "stream",
     "text": [
      "<ipython-input-3-e9cf2ce35dba>:43: SADeprecationWarning: The Engine.table_names() method is deprecated and will be removed in a future release.  Please refer to Inspector.get_table_names(). (deprecated since: 1.4)\n",
      "  tables = engine.table_names()\n"
     ]
    }
   ],
   "source": [
    "def create_tables():\n",
    "    \"\"\" create tables in the PostgreSQL database\"\"\"\n",
    "    commands = (\n",
    "                \"\"\"        \n",
    "                CREATE TABLE \"gdp\"(\n",
    "                \"country\" TEXT,\n",
    "                \"year\" INT,\n",
    "                \"gdp_per_capita\" FLOAT,\n",
    "                PRIMARY KEY (\"country\",\"year\")\n",
    "                );\n",
    "                \"\"\",\n",
    "                \"\"\"\n",
    "                CREATE TABLE \"hdi\"(\n",
    "                \"hdi_rank\" INT,\n",
    "                \"country\" TEXT,\n",
    "                \"year\" INT,\n",
    "                \"value\" FLOAT,\n",
    "                PRIMARY KEY (\"country\",\"year\")\n",
    "                );\n",
    "                \"\"\",\n",
    "                \"\"\"\n",
    "                CREATE TABLE \"suicide\"(\n",
    "                \"country\" TEXT,\n",
    "                \"country_code\" TEXT,\n",
    "                \"year\" INT,\n",
    "                \"suicide_rate\" FLOAT,\n",
    "                PRIMARY KEY (\"country\",\"year\")\n",
    "                );\n",
    "                \"\"\"\n",
    "    )\n",
    "    conn= None\n",
    "\n",
    "    try:\n",
    "        # connect to the PostgreSQL server\n",
    "        engine = create_engine(f'postgresql+psycopg2://{connection_str}')\n",
    "        conn = engine.connect()\n",
    "        # create table one by one\n",
    "        for command in commands:\n",
    "            trans = conn.begin()\n",
    "            conn.execute(command)\n",
    "            trans.commit()\n",
    "        # Close connection\n",
    "        tables = engine.table_names()\n",
    "        conn.close()\n",
    "        print (f'The tables: {tables} were created')\n",
    "    except (Exception, psycopg2.DatabaseError) as error:\n",
    "        print(error)\n",
    "        \n",
    "create_tables()        "
   ]
  },
  {
   "cell_type": "markdown",
   "id": "5a3edc89",
   "metadata": {},
   "source": [
    "# Load Clean Data"
   ]
  },
  {
   "cell_type": "code",
   "execution_count": 4,
   "id": "84f835a4",
   "metadata": {},
   "outputs": [],
   "source": [
    "gdp_file = '../Resources/gdp_clean_df.csv'\n",
    "gdp_df = pd.read_csv(gdp_file)\n",
    "\n",
    "hdi_file = '../Resources/HDI_clean_df.csv'\n",
    "hdi_df = pd.read_csv(hdi_file)\n",
    "\n",
    "suicide_file = '../Resources/suicide_clean_df.csv'\n",
    "suicide_df = pd.read_csv(suicide_file)"
   ]
  },
  {
   "cell_type": "markdown",
   "id": "0df4d17b",
   "metadata": {},
   "source": [
    "# Save Data into Tables"
   ]
  },
  {
   "cell_type": "code",
   "execution_count": 5,
   "id": "52570951",
   "metadata": {},
   "outputs": [],
   "source": [
    "connection_str =\"postgres:PW@localhost:5432/suicide_db\"\n",
    "engine = create_engine(f'postgresql://{connection_str}')"
   ]
  },
  {
   "cell_type": "code",
   "execution_count": 6,
   "id": "b5686cc0",
   "metadata": {},
   "outputs": [
    {
     "name": "stderr",
     "output_type": "stream",
     "text": [
      "<ipython-input-6-d72bc75a6b62>:1: SADeprecationWarning: The Engine.table_names() method is deprecated and will be removed in a future release.  Please refer to Inspector.get_table_names(). (deprecated since: 1.4)\n",
      "  engine.table_names()\n"
     ]
    },
    {
     "data": {
      "text/plain": [
       "['gdp', 'hdi', 'suicide']"
      ]
     },
     "execution_count": 6,
     "metadata": {},
     "output_type": "execute_result"
    }
   ],
   "source": [
    "engine.table_names()"
   ]
  },
  {
   "cell_type": "code",
   "execution_count": 7,
   "id": "52409094",
   "metadata": {},
   "outputs": [],
   "source": [
    "suicide_df.to_sql(name='suicide', con=engine, if_exists='append', index=False)\n"
   ]
  },
  {
   "cell_type": "code",
   "execution_count": 8,
   "id": "f61d9773",
   "metadata": {},
   "outputs": [],
   "source": [
    "gdp_df.to_sql(name='gdp', con=engine, if_exists='append', index=False)"
   ]
  },
  {
   "cell_type": "code",
   "execution_count": 9,
   "id": "061d1c1f",
   "metadata": {},
   "outputs": [],
   "source": [
    "hdi_df.to_sql(name='hdi', con=engine, if_exists='append', index=False)"
   ]
  }
 ],
 "metadata": {
  "kernelspec": {
   "display_name": "Python 3",
   "language": "python",
   "name": "python3"
  },
  "language_info": {
   "codemirror_mode": {
    "name": "ipython",
    "version": 3
   },
   "file_extension": ".py",
   "mimetype": "text/x-python",
   "name": "python",
   "nbconvert_exporter": "python",
   "pygments_lexer": "ipython3",
   "version": "3.8.8"
  }
 },
 "nbformat": 4,
 "nbformat_minor": 5
}
