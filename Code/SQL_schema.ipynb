{
 "cells": [
  {
   "cell_type": "markdown",
   "id": "a18b7257",
   "metadata": {},
   "source": [
    "# Load Dependencies"
   ]
  },
  {
   "cell_type": "code",
   "execution_count": 2,
   "id": "3d73ccf1",
   "metadata": {},
   "outputs": [],
   "source": [
    "from sqlalchemy import create_engine\n",
    "import pandas as pd\n",
    "import psycopg2"
   ]
  },
  {
   "cell_type": "markdown",
   "id": "82201d81",
   "metadata": {},
   "source": [
    "# Load Clean Data"
   ]
  },
  {
   "cell_type": "code",
   "execution_count": 3,
   "id": "025f350c",
   "metadata": {},
   "outputs": [],
   "source": [
    "gdp_file = '../Resources/gdp_clean_df.csv'\n",
    "gdp_df = pd.read_csv(gdp_file)\n",
    "\n",
    "hdi_file = '../Resources/HDI_clean_df.csv'\n",
    "hdi_df = pd.read_csv(hdi_file)\n",
    "\n",
    "suicide_file = '../Resources/suicide_clean_df.csv'\n",
    "suicide_df = pd.read_csv(suicide_file)\n"
   ]
  },
  {
   "cell_type": "markdown",
   "id": "e54fd80e",
   "metadata": {},
   "source": [
    "# Make Database Connection"
   ]
  },
  {
   "cell_type": "code",
   "execution_count": 59,
   "id": "48530b25",
   "metadata": {},
   "outputs": [],
   "source": [
    "connection_str =\"postgres:#postgresPW#@localhost:5432/suicide_db\"\n",
    "engine = create_engine(f'postgresql://{connection_str}')"
   ]
  },
  {
   "cell_type": "code",
   "execution_count": 60,
   "id": "6bfd9f3c",
   "metadata": {},
   "outputs": [
    {
     "data": {
      "text/plain": [
       "['gdp', 'hdi', 'suicide']"
      ]
     },
     "execution_count": 60,
     "metadata": {},
     "output_type": "execute_result"
    }
   ],
   "source": [
    "engine.table_names()"
   ]
  },
  {
   "cell_type": "markdown",
   "id": "b04392fb",
   "metadata": {},
   "source": [
    "# Save Data into the Data base"
   ]
  },
  {
   "cell_type": "code",
   "execution_count": 52,
   "id": "70714191",
   "metadata": {},
   "outputs": [],
   "source": [
    "suicide_df.to_sql(name='suicide', con=engine, if_exists='append', index=False)"
   ]
  },
  {
   "cell_type": "code",
   "execution_count": 61,
   "id": "6224da32",
   "metadata": {},
   "outputs": [],
   "source": [
    "gdp_df.to_sql(name='gdp', con=engine, if_exists='append', index=False)"
   ]
  },
  {
   "cell_type": "code",
   "execution_count": null,
   "id": "ad59b255",
   "metadata": {},
   "outputs": [],
   "source": [
    "hdi_df.to_sql(name='hdi', con=engine, if_exists='append', index=False)"
   ]
  }
 ],
 "metadata": {
  "kernelspec": {
   "display_name": "Python 3",
   "language": "python",
   "name": "python3"
  },
  "language_info": {
   "codemirror_mode": {
    "name": "ipython",
    "version": 3
   },
   "file_extension": ".py",
   "mimetype": "text/x-python",
   "name": "python",
   "nbconvert_exporter": "python",
   "pygments_lexer": "ipython3",
   "version": "3.8.8"
  }
 },
 "nbformat": 4,
 "nbformat_minor": 5
}
