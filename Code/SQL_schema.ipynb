{
 "cells": [
  {
   "cell_type": "code",
   "execution_count": 1,
   "id": "3d73ccf1",
   "metadata": {},
   "outputs": [],
   "source": [
    "from sqlalchemy import create_engine\n",
    "import pandas as pd\n",
    "import psycopg2"
   ]
  },
  {
   "cell_type": "code",
   "execution_count": 3,
   "id": "025f350c",
   "metadata": {},
   "outputs": [
    {
     "data": {
      "text/html": [
       "<div>\n",
       "<style scoped>\n",
       "    .dataframe tbody tr th:only-of-type {\n",
       "        vertical-align: middle;\n",
       "    }\n",
       "\n",
       "    .dataframe tbody tr th {\n",
       "        vertical-align: top;\n",
       "    }\n",
       "\n",
       "    .dataframe thead th {\n",
       "        text-align: right;\n",
       "    }\n",
       "</style>\n",
       "<table border=\"1\" class=\"dataframe\">\n",
       "  <thead>\n",
       "    <tr style=\"text-align: right;\">\n",
       "      <th></th>\n",
       "      <th>HDI Rank</th>\n",
       "      <th>Country</th>\n",
       "      <th>Year</th>\n",
       "      <th>value</th>\n",
       "    </tr>\n",
       "  </thead>\n",
       "  <tbody>\n",
       "    <tr>\n",
       "      <th>0</th>\n",
       "      <td>169</td>\n",
       "      <td>Afghanistan</td>\n",
       "      <td>1991</td>\n",
       "      <td>0.307</td>\n",
       "    </tr>\n",
       "    <tr>\n",
       "      <th>1</th>\n",
       "      <td>69</td>\n",
       "      <td>Albania</td>\n",
       "      <td>1991</td>\n",
       "      <td>0.631</td>\n",
       "    </tr>\n",
       "    <tr>\n",
       "      <th>2</th>\n",
       "      <td>91</td>\n",
       "      <td>Algeria</td>\n",
       "      <td>1991</td>\n",
       "      <td>0.576</td>\n",
       "    </tr>\n",
       "    <tr>\n",
       "      <th>3</th>\n",
       "      <td>36</td>\n",
       "      <td>Andorra</td>\n",
       "      <td>1991</td>\n",
       "      <td>..</td>\n",
       "    </tr>\n",
       "    <tr>\n",
       "      <th>4</th>\n",
       "      <td>148</td>\n",
       "      <td>Angola</td>\n",
       "      <td>1991</td>\n",
       "      <td>..</td>\n",
       "    </tr>\n",
       "  </tbody>\n",
       "</table>\n",
       "</div>"
      ],
      "text/plain": [
       "  HDI Rank       Country  Year  value\n",
       "0      169   Afghanistan  1991  0.307\n",
       "1       69       Albania  1991  0.631\n",
       "2       91       Algeria  1991  0.576\n",
       "3       36       Andorra  1991     ..\n",
       "4      148        Angola  1991     .."
      ]
     },
     "execution_count": 3,
     "metadata": {},
     "output_type": "execute_result"
    }
   ],
   "source": [
    "gdp_file = '../Resources/gdp_clean_df.csv'\n",
    "gdp_df = pd.read_csv(gdp_file)\n",
    "\n",
    "hdi_file = '../Resources/HDI_clean_df.csv'\n",
    "hdi_df = pd.read_csv(hdi_file)\n",
    "\n",
    "suicide_file = '../Resources/suicide_clean_df.csv'\n",
    "suicide_df = pd.read_csv(suicide_file)\n"
   ]
  },
  {
   "cell_type": "code",
   "execution_count": null,
   "id": "48530b25",
   "metadata": {},
   "outputs": [],
   "source": [
    "connection_str = \"postgres:postgres@localhost:5432/suicide_db\"\n",
    "engine = create_engine(f'postgresql:///{connection_str})"
   ]
  }
 ],
 "metadata": {
  "kernelspec": {
   "display_name": "Python 3",
   "language": "python",
   "name": "python3"
  },
  "language_info": {
   "codemirror_mode": {
    "name": "ipython",
    "version": 3
   },
   "file_extension": ".py",
   "mimetype": "text/x-python",
   "name": "python",
   "nbconvert_exporter": "python",
   "pygments_lexer": "ipython3",
   "version": "3.6.10"
  }
 },
 "nbformat": 4,
 "nbformat_minor": 5
}
