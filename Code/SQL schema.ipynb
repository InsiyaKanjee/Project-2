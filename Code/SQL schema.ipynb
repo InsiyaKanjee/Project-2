{
 "cells": [
  {
   "cell_type": "code",
   "execution_count": 1,
   "id": "3d73ccf1",
   "metadata": {},
   "outputs": [],
   "source": [
    "from sqlalchemy import create_engine\n",
    "import pandas as pd\n",
    "import psycopg2"
   ]
  },
  {
   "cell_type": "code",
   "execution_count": 3,
   "id": "025f350c",
   "metadata": {},
   "outputs": [],
   "source": [
    "gdp_file = '../Resources/gdp_clean_df.csv'\n",
    "gdp_df = pd.read_csv(gdp_file)\n",
    "\n",
    "hdi_file = '../Resources/HDI_clean_df.csv'\n",
    "hdi_df = pd.read_csv(hdi_file)\n",
    "\n",
    "suicide_file = '../Resources/suicide_clean_df.csv'\n",
    "suicide_df = pd.read_csv(suicide_file)"
   ]
  },
  {
   "cell_type": "code",
   "execution_count": null,
   "id": "48530b25",
   "metadata": {},
   "outputs": [],
   "source": [
    "connection_str = \"postgres:postgres@localhost:5432/\""
   ]
  }
 ],
 "metadata": {
  "kernelspec": {
   "display_name": "Python 3",
   "language": "python",
   "name": "python3"
  },
  "language_info": {
   "codemirror_mode": {
    "name": "ipython",
    "version": 3
   },
   "file_extension": ".py",
   "mimetype": "text/x-python",
   "name": "python",
   "nbconvert_exporter": "python",
   "pygments_lexer": "ipython3",
   "version": "3.6.10"
  }
 },
 "nbformat": 4,
 "nbformat_minor": 5
}
